from langchain.text_splitter import RecursiveCharacterTextSplitter
from sentence_transformers import SentenceTransformer
import langchain_community.vectorstores as vectorstores
from langchain_community.vectorstores import Chroma
from langchain.schema import Document


text_splitter = RecursiveCharacterTextSplitter(chunk_size=1000, chunk_overlap=200)


documents = []
texts = ["This is a sample document.", "Here's another text."]


for text in texts:
    split_documents = text_splitter.split_text(text)
    for chunk in split_documents:
        documents.append(Document(page_content=chunk))  # Create Document objects




embedding_model = SentenceTransformer('paraphrase-distilroberta-base-v2')
persist_directory = "db"



vectordb = vectorstores.Chroma.from_documents(
    documents=documents,
    persist_directory=persist_directory
)


















